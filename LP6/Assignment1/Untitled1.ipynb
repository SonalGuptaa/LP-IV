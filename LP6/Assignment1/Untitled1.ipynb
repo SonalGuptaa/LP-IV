{
 "cells": [
  {
   "cell_type": "code",
   "execution_count": 14,
   "id": "3b4c6291",
   "metadata": {},
   "outputs": [],
   "source": [
    "import numpy as np\n",
    "import pandas as pd\n",
    "import nltk"
   ]
  },
  {
   "cell_type": "code",
   "execution_count": null,
   "id": "43b63af5",
   "metadata": {},
   "outputs": [],
   "source": [
    "#Differnet Tokenizer"
   ]
  },
  {
   "cell_type": "code",
   "execution_count": 15,
   "id": "6dc6f657",
   "metadata": {},
   "outputs": [],
   "source": [
    "sentence = \"In the heart of the bustling city, amidst the towering skyscrapers and bustling crowds, a solitary musician stood on a street corner, serenading passersby with haunting melodies that echoed through the concrete jungle, offering a fleeting moment of beauty and solace in the midst of urban chaos.\""
   ]
  },
  {
   "cell_type": "markdown",
   "id": "cf91fcf3",
   "metadata": {},
   "source": [
    "1. WhiteSpace Tokenization"
   ]
  },
  {
   "cell_type": "code",
   "execution_count": 16,
   "id": "6f622603",
   "metadata": {},
   "outputs": [
    {
     "name": "stdout",
     "output_type": "stream",
     "text": [
      "['In', 'the', 'heart', 'of', 'the', 'bustling', 'city,', 'amidst', 'the', 'towering', 'skyscrapers', 'and', 'bustling', 'crowds,', 'a', 'solitary', 'musician', 'stood', 'on', 'a', 'street', 'corner,', 'serenading', 'passersby', 'with', 'haunting', 'melodies', 'that', 'echoed', 'through', 'the', 'concrete', 'jungle,', 'offering', 'a', 'fleeting', 'moment', 'of', 'beauty', 'and', 'solace', 'in', 'the', 'midst', 'of', 'urban', 'chaos.']\n"
     ]
    }
   ],
   "source": [
    "from nltk.tokenize import WhitespaceTokenizer\n",
    "whitespace_tokenized = WhitespaceTokenizer().tokenize(sentence)\n",
    "print(whitespace_tokenized)"
   ]
  },
  {
   "cell_type": "markdown",
   "id": "290235eb",
   "metadata": {},
   "source": [
    "2.Punctuation Based Word Tokenization"
   ]
  },
  {
   "cell_type": "code",
   "execution_count": 17,
   "id": "67e66931",
   "metadata": {},
   "outputs": [
    {
     "name": "stdout",
     "output_type": "stream",
     "text": [
      "['In', 'the', 'heart', 'of', 'the', 'bustling', 'city', ',', 'amidst', 'the', 'towering', 'skyscrapers', 'and', 'bustling', 'crowds', ',', 'a', 'solitary', 'musician', 'stood', 'on', 'a', 'street', 'corner', ',', 'serenading', 'passersby', 'with', 'haunting', 'melodies', 'that', 'echoed', 'through', 'the', 'concrete', 'jungle', ',', 'offering', 'a', 'fleeting', 'moment', 'of', 'beauty', 'and', 'solace', 'in', 'the', 'midst', 'of', 'urban', 'chaos', '.']\n"
     ]
    }
   ],
   "source": [
    "from nltk.tokenize import wordpunct_tokenize\n",
    "print(wordpunct_tokenize(sentence))"
   ]
  },
  {
   "cell_type": "markdown",
   "id": "20e39813",
   "metadata": {},
   "source": [
    "3. TreeBankWord Tokenization"
   ]
  },
  {
   "cell_type": "code",
   "execution_count": 18,
   "id": "ee25dfc7",
   "metadata": {},
   "outputs": [
    {
     "name": "stdout",
     "output_type": "stream",
     "text": [
      "['In', 'the', 'heart', 'of', 'the', 'bustling', 'city', ',', 'amidst', 'the', 'towering', 'skyscrapers', 'and', 'bustling', 'crowds', ',', 'a', 'solitary', 'musician', 'stood', 'on', 'a', 'street', 'corner', ',', 'serenading', 'passersby', 'with', 'haunting', 'melodies', 'that', 'echoed', 'through', 'the', 'concrete', 'jungle', ',', 'offering', 'a', 'fleeting', 'moment', 'of', 'beauty', 'and', 'solace', 'in', 'the', 'midst', 'of', 'urban', 'chaos', '.']\n"
     ]
    }
   ],
   "source": [
    "from nltk.tokenize import TreebankWordTokenizer\n",
    "treebank_tokenized = TreebankWordTokenizer().tokenize(sentence)\n",
    "print(treebank_tokenized)"
   ]
  },
  {
   "cell_type": "markdown",
   "id": "3974fb3f",
   "metadata": {},
   "source": [
    "4. Tweet Tokenization"
   ]
  },
  {
   "cell_type": "code",
   "execution_count": 19,
   "id": "8c41ba4a",
   "metadata": {},
   "outputs": [
    {
     "name": "stdout",
     "output_type": "stream",
     "text": [
      "['In', 'the', 'heart', 'of', 'the', 'bustling', 'city', ',', 'amidst', 'the', 'towering', 'skyscrapers', 'and', 'bustling', 'crowds', ',', 'a', 'solitary', 'musician', 'stood', 'on', 'a', 'street', 'corner', ',', 'serenading', 'passersby', 'with', 'haunting', 'melodies', 'that', 'echoed', 'through', 'the', 'concrete', 'jungle', ',', 'offering', 'a', 'fleeting', 'moment', 'of', 'beauty', 'and', 'solace', 'in', 'the', 'midst', 'of', 'urban', 'chaos', '.']\n"
     ]
    }
   ],
   "source": [
    "from nltk.tokenize import TweetTokenizer\n",
    "tweet_tokenized = TweetTokenizer().tokenize(sentence)\n",
    "print(tweet_tokenized)"
   ]
  },
  {
   "cell_type": "markdown",
   "id": "0a1bf795",
   "metadata": {},
   "source": [
    "5. MWE Tokenization"
   ]
  },
  {
   "cell_type": "code",
   "execution_count": 20,
   "id": "295c9cc7",
   "metadata": {},
   "outputs": [
    {
     "name": "stdout",
     "output_type": "stream",
     "text": [
      "['I', 'n', ' ', 't_h_e', ' ', 'h', 'e', 'a', 'r', 't', ' ', 'o', 'f', ' ', 't_h_e', ' ', 'b', 'u', 's', 't', 'l', 'i', 'n', 'g', ' ', 'c', 'i', 't', 'y', ',', ' ', 'a', 'm', 'i', 'd', 's', 't', ' ', 't_h_e', ' ', 't', 'o', 'w', 'e', 'r', 'i', 'n', 'g', ' ', 's', 'k', 'y', 's', 'c', 'r', 'a', 'p', 'e', 'r', 's', ' ', 'a', 'n', 'd', ' ', 'b', 'u', 's', 't', 'l', 'i', 'n', 'g', ' ', 'c', 'r', 'o', 'w', 'd', 's', ',', ' ', 'a', ' ', 's_o_l_i_t_a_r_y', ' ', 'm', 'u', 's', 'i', 'c', 'i', 'a', 'n', ' ', 's', 't', 'o', 'o', 'd', ' ', 'o', 'n', ' ', 'a', ' ', 's', 't', 'r', 'e', 'e', 't', ' ', 'c', 'o', 'r', 'n', 'e', 'r', ',', ' ', 's', 'e', 'r', 'e', 'n', 'a', 'd', 'i', 'n', 'g', ' ', 'p', 'a', 's', 's', 'e', 'r', 's', 'b', 'y', ' ', 'w', 'i', 't', 'h', ' ', 'h', 'a', 'u', 'n', 't', 'i', 'n', 'g', ' ', 'm', 'e', 'l', 'o', 'd', 'i', 'e', 's', ' ', 't', 'h', 'a', 't', ' ', 'e', 'c', 'h', 'o', 'e', 'd', ' ', 't', 'h', 'r', 'o', 'u', 'g', 'h', ' ', 't_h_e', ' ', 'c', 'o', 'n', 'c', 'r', 'e', 't', 'e', ' ', 'j', 'u', 'n', 'g', 'l', 'e', ',', ' ', 'o', 'f', 'f', 'e', 'r', 'i', 'n', 'g', ' ', 'a', ' ', 'f', 'l', 'e', 'e', 't', 'i', 'n', 'g', ' ', 'm', 'o', 'm', 'e', 'n', 't', ' ', 'o', 'f', ' ', 'b', 'e', 'a', 'u', 't', 'y', ' ', 'a', 'n', 'd', ' ', 's', 'o', 'l', 'a', 'c', 'e', ' ', 'i', 'n', ' ', 't_h_e', ' ', 'm', 'i', 'd', 's', 't', ' ', 'o', 'f', ' ', 'u', 'r', 'b', 'a', 'n', ' ', 'c', 'h', 'a', 'o', 's', '.']\n"
     ]
    }
   ],
   "source": [
    "from nltk.tokenize import MWETokenizer\n",
    "mwe_tokenizer = MWETokenizer([('the'),('and','a','chaos')])\n",
    "mwe_tokenizer.add_mwe(('solitary'))\n",
    "mwe_tokenized = mwe_tokenizer.tokenize(sentence)\n",
    "print(mwe_tokenized)"
   ]
  },
  {
   "cell_type": "markdown",
   "id": "d2adb791",
   "metadata": {},
   "source": [
    "Different Stemming Techniques"
   ]
  },
  {
   "cell_type": "markdown",
   "id": "0e785f3a",
   "metadata": {},
   "source": [
    "1. Porter Stemming"
   ]
  },
  {
   "cell_type": "code",
   "execution_count": 21,
   "id": "4093e735",
   "metadata": {},
   "outputs": [
    {
     "name": "stdout",
     "output_type": "stream",
     "text": [
      "Before Potter Stemming\n",
      "['In', 'the', 'heart', 'of', 'the', 'bustling', 'city', ',', 'amidst', 'the', 'towering', 'skyscrapers', 'and', 'bustling', 'crowds', ',', 'a', 'solitary', 'musician', 'stood', 'on', 'a', 'street', 'corner', ',', 'serenading', 'passersby', 'with', 'haunting', 'melodies', 'that', 'echoed', 'through', 'the', 'concrete', 'jungle', ',', 'offering', 'a', 'fleeting', 'moment', 'of', 'beauty', 'and', 'solace', 'in', 'the', 'midst', 'of', 'urban', 'chaos', '.'] \n",
      "\n",
      "After Potter Stemming\n",
      "['in', 'the', 'heart', 'of', 'the', 'bustl', 'citi', ',', 'amidst', 'the', 'tower', 'skyscrap', 'and', 'bustl', 'crowd', ',', 'a', 'solitari', 'musician', 'stood', 'on', 'a', 'street', 'corner', ',', 'serenad', 'passersbi', 'with', 'haunt', 'melodi', 'that', 'echo', 'through', 'the', 'concret', 'jungl', ',', 'offer', 'a', 'fleet', 'moment', 'of', 'beauti', 'and', 'solac', 'in', 'the', 'midst', 'of', 'urban', 'chao', '.']\n"
     ]
    }
   ],
   "source": [
    "from nltk.stem import PorterStemmer\n",
    "porterstemmer = PorterStemmer()\n",
    "stem_words = []\n",
    "for w in tweet_tokenized:\n",
    "    x = porterstemmer.stem(w)\n",
    "    stem_words.append(x)\n",
    "print('Before Potter Stemming')\n",
    "print(tweet_tokenized,'\\n')\n",
    "\n",
    "print('After Potter Stemming')\n",
    "print(stem_words)"
   ]
  },
  {
   "cell_type": "markdown",
   "id": "f19fd753",
   "metadata": {},
   "source": [
    "2. SnowBallStemming"
   ]
  },
  {
   "cell_type": "code",
   "execution_count": 22,
   "id": "f1122e20",
   "metadata": {},
   "outputs": [
    {
     "name": "stdout",
     "output_type": "stream",
     "text": [
      "Before Snowball Stemming\n",
      "['In', 'the', 'heart', 'of', 'the', 'bustling', 'city', ',', 'amidst', 'the', 'towering', 'skyscrapers', 'and', 'bustling', 'crowds', ',', 'a', 'solitary', 'musician', 'stood', 'on', 'a', 'street', 'corner', ',', 'serenading', 'passersby', 'with', 'haunting', 'melodies', 'that', 'echoed', 'through', 'the', 'concrete', 'jungle', ',', 'offering', 'a', 'fleeting', 'moment', 'of', 'beauty', 'and', 'solace', 'in', 'the', 'midst', 'of', 'urban', 'chaos', '.'] \n",
      "\n",
      "After Snowball Stemming\n",
      "['in', 'the', 'heart', 'of', 'the', 'bustl', 'citi', ',', 'amidst', 'the', 'tower', 'skyscrap', 'and', 'bustl', 'crowd', ',', 'a', 'solitari', 'musician', 'stood', 'on', 'a', 'street', 'corner', ',', 'serenad', 'passersbi', 'with', 'haunt', 'melodi', 'that', 'echo', 'through', 'the', 'concret', 'jungl', ',', 'offer', 'a', 'fleet', 'moment', 'of', 'beauti', 'and', 'solac', 'in', 'the', 'midst', 'of', 'urban', 'chao', '.']\n"
     ]
    }
   ],
   "source": [
    "from nltk.stem.snowball import SnowballStemmer\n",
    "snowballstemmer = SnowballStemmer(language='english')\n",
    "stem_words = []\n",
    "for w in tweet_tokenized:\n",
    "    x = snowballstemmer.stem(w)\n",
    "    stem_words.append(x)\n",
    "print('Before Snowball Stemming')\n",
    "print(tweet_tokenized,'\\n')\n",
    "\n",
    "print('After Snowball Stemming')\n",
    "print(stem_words)"
   ]
  },
  {
   "cell_type": "markdown",
   "id": "803da8c7",
   "metadata": {},
   "source": [
    "Lemmatization"
   ]
  },
  {
   "cell_type": "code",
   "execution_count": 23,
   "id": "bbad50b7",
   "metadata": {},
   "outputs": [
    {
     "ename": "LookupError",
     "evalue": "\n**********************************************************************\n  Resource \u001b[93mwordnet\u001b[0m not found.\n  Please use the NLTK Downloader to obtain the resource:\n\n  \u001b[31m>>> import nltk\n  >>> nltk.download('wordnet')\n  \u001b[0m\n  For more information see: https://www.nltk.org/data.html\n\n  Attempted to load \u001b[93mcorpora/wordnet\u001b[0m\n\n  Searched in:\n    - 'C:\\\\Users\\\\91620/nltk_data'\n    - 'C:\\\\Users\\\\91620\\\\AppData\\\\Local\\\\Programs\\\\Python\\\\Python310\\\\nltk_data'\n    - 'C:\\\\Users\\\\91620\\\\AppData\\\\Local\\\\Programs\\\\Python\\\\Python310\\\\share\\\\nltk_data'\n    - 'C:\\\\Users\\\\91620\\\\AppData\\\\Local\\\\Programs\\\\Python\\\\Python310\\\\lib\\\\nltk_data'\n    - 'C:\\\\Users\\\\91620\\\\AppData\\\\Roaming\\\\nltk_data'\n    - 'C:\\\\nltk_data'\n    - 'D:\\\\nltk_data'\n    - 'E:\\\\nltk_data'\n**********************************************************************\n",
     "output_type": "error",
     "traceback": [
      "\u001b[1;31m---------------------------------------------------------------------------\u001b[0m",
      "\u001b[1;31mLookupError\u001b[0m                               Traceback (most recent call last)",
      "File \u001b[1;32m~\\AppData\\Local\\Programs\\Python\\Python310\\lib\\site-packages\\nltk\\corpus\\util.py:84\u001b[0m, in \u001b[0;36mLazyCorpusLoader.__load\u001b[1;34m(self)\u001b[0m\n\u001b[0;32m     83\u001b[0m \u001b[38;5;28;01mtry\u001b[39;00m:\n\u001b[1;32m---> 84\u001b[0m     root \u001b[38;5;241m=\u001b[39m \u001b[43mnltk\u001b[49m\u001b[38;5;241;43m.\u001b[39;49m\u001b[43mdata\u001b[49m\u001b[38;5;241;43m.\u001b[39;49m\u001b[43mfind\u001b[49m\u001b[43m(\u001b[49m\u001b[38;5;124;43mf\u001b[39;49m\u001b[38;5;124;43m\"\u001b[39;49m\u001b[38;5;132;43;01m{\u001b[39;49;00m\u001b[38;5;28;43mself\u001b[39;49m\u001b[38;5;241;43m.\u001b[39;49m\u001b[43msubdir\u001b[49m\u001b[38;5;132;43;01m}\u001b[39;49;00m\u001b[38;5;124;43m/\u001b[39;49m\u001b[38;5;132;43;01m{\u001b[39;49;00m\u001b[43mzip_name\u001b[49m\u001b[38;5;132;43;01m}\u001b[39;49;00m\u001b[38;5;124;43m\"\u001b[39;49m\u001b[43m)\u001b[49m\n\u001b[0;32m     85\u001b[0m \u001b[38;5;28;01mexcept\u001b[39;00m \u001b[38;5;167;01mLookupError\u001b[39;00m:\n",
      "File \u001b[1;32m~\\AppData\\Local\\Programs\\Python\\Python310\\lib\\site-packages\\nltk\\data.py:583\u001b[0m, in \u001b[0;36mfind\u001b[1;34m(resource_name, paths)\u001b[0m\n\u001b[0;32m    582\u001b[0m resource_not_found \u001b[38;5;241m=\u001b[39m \u001b[38;5;124mf\u001b[39m\u001b[38;5;124m\"\u001b[39m\u001b[38;5;130;01m\\n\u001b[39;00m\u001b[38;5;132;01m{\u001b[39;00msep\u001b[38;5;132;01m}\u001b[39;00m\u001b[38;5;130;01m\\n\u001b[39;00m\u001b[38;5;132;01m{\u001b[39;00mmsg\u001b[38;5;132;01m}\u001b[39;00m\u001b[38;5;130;01m\\n\u001b[39;00m\u001b[38;5;132;01m{\u001b[39;00msep\u001b[38;5;132;01m}\u001b[39;00m\u001b[38;5;130;01m\\n\u001b[39;00m\u001b[38;5;124m\"\u001b[39m\n\u001b[1;32m--> 583\u001b[0m \u001b[38;5;28;01mraise\u001b[39;00m \u001b[38;5;167;01mLookupError\u001b[39;00m(resource_not_found)\n",
      "\u001b[1;31mLookupError\u001b[0m: \n**********************************************************************\n  Resource \u001b[93mwordnet\u001b[0m not found.\n  Please use the NLTK Downloader to obtain the resource:\n\n  \u001b[31m>>> import nltk\n  >>> nltk.download('wordnet')\n  \u001b[0m\n  For more information see: https://www.nltk.org/data.html\n\n  Attempted to load \u001b[93mcorpora/wordnet.zip/wordnet/\u001b[0m\n\n  Searched in:\n    - 'C:\\\\Users\\\\91620/nltk_data'\n    - 'C:\\\\Users\\\\91620\\\\AppData\\\\Local\\\\Programs\\\\Python\\\\Python310\\\\nltk_data'\n    - 'C:\\\\Users\\\\91620\\\\AppData\\\\Local\\\\Programs\\\\Python\\\\Python310\\\\share\\\\nltk_data'\n    - 'C:\\\\Users\\\\91620\\\\AppData\\\\Local\\\\Programs\\\\Python\\\\Python310\\\\lib\\\\nltk_data'\n    - 'C:\\\\Users\\\\91620\\\\AppData\\\\Roaming\\\\nltk_data'\n    - 'C:\\\\nltk_data'\n    - 'D:\\\\nltk_data'\n    - 'E:\\\\nltk_data'\n**********************************************************************\n",
      "\nDuring handling of the above exception, another exception occurred:\n",
      "\u001b[1;31mLookupError\u001b[0m                               Traceback (most recent call last)",
      "Cell \u001b[1;32mIn [23], line 6\u001b[0m\n\u001b[0;32m      4\u001b[0m stem_words \u001b[38;5;241m=\u001b[39m []\n\u001b[0;32m      5\u001b[0m \u001b[38;5;28;01mfor\u001b[39;00m w \u001b[38;5;129;01min\u001b[39;00m tweet_tokenized:\n\u001b[1;32m----> 6\u001b[0m     x \u001b[38;5;241m=\u001b[39m \u001b[43mwordnet_lemmatizer\u001b[49m\u001b[38;5;241;43m.\u001b[39;49m\u001b[43mlemmatize\u001b[49m\u001b[43m(\u001b[49m\u001b[43mw\u001b[49m\u001b[43m)\u001b[49m\n\u001b[0;32m      7\u001b[0m     stem_words\u001b[38;5;241m.\u001b[39mappend(x)\n\u001b[0;32m      8\u001b[0m \u001b[38;5;28mprint\u001b[39m(\u001b[38;5;124m'\u001b[39m\u001b[38;5;124mBefore Lemmatization\u001b[39m\u001b[38;5;124m'\u001b[39m)\n",
      "File \u001b[1;32m~\\AppData\\Local\\Programs\\Python\\Python310\\lib\\site-packages\\nltk\\stem\\wordnet.py:45\u001b[0m, in \u001b[0;36mWordNetLemmatizer.lemmatize\u001b[1;34m(self, word, pos)\u001b[0m\n\u001b[0;32m     33\u001b[0m \u001b[38;5;28;01mdef\u001b[39;00m \u001b[38;5;21mlemmatize\u001b[39m(\u001b[38;5;28mself\u001b[39m, word: \u001b[38;5;28mstr\u001b[39m, pos: \u001b[38;5;28mstr\u001b[39m \u001b[38;5;241m=\u001b[39m \u001b[38;5;124m\"\u001b[39m\u001b[38;5;124mn\u001b[39m\u001b[38;5;124m\"\u001b[39m) \u001b[38;5;241m-\u001b[39m\u001b[38;5;241m>\u001b[39m \u001b[38;5;28mstr\u001b[39m:\n\u001b[0;32m     34\u001b[0m     \u001b[38;5;124;03m\"\"\"Lemmatize `word` using WordNet's built-in morphy function.\u001b[39;00m\n\u001b[0;32m     35\u001b[0m \u001b[38;5;124;03m    Returns the input word unchanged if it cannot be found in WordNet.\u001b[39;00m\n\u001b[0;32m     36\u001b[0m \n\u001b[1;32m   (...)\u001b[0m\n\u001b[0;32m     43\u001b[0m \u001b[38;5;124;03m    :return: The lemma of `word`, for the given `pos`.\u001b[39;00m\n\u001b[0;32m     44\u001b[0m \u001b[38;5;124;03m    \"\"\"\u001b[39;00m\n\u001b[1;32m---> 45\u001b[0m     lemmas \u001b[38;5;241m=\u001b[39m \u001b[43mwn\u001b[49m\u001b[38;5;241;43m.\u001b[39;49m\u001b[43m_morphy\u001b[49m(word, pos)\n\u001b[0;32m     46\u001b[0m     \u001b[38;5;28;01mreturn\u001b[39;00m \u001b[38;5;28mmin\u001b[39m(lemmas, key\u001b[38;5;241m=\u001b[39m\u001b[38;5;28mlen\u001b[39m) \u001b[38;5;28;01mif\u001b[39;00m lemmas \u001b[38;5;28;01melse\u001b[39;00m word\n",
      "File \u001b[1;32m~\\AppData\\Local\\Programs\\Python\\Python310\\lib\\site-packages\\nltk\\corpus\\util.py:121\u001b[0m, in \u001b[0;36mLazyCorpusLoader.__getattr__\u001b[1;34m(self, attr)\u001b[0m\n\u001b[0;32m    118\u001b[0m \u001b[38;5;28;01mif\u001b[39;00m attr \u001b[38;5;241m==\u001b[39m \u001b[38;5;124m\"\u001b[39m\u001b[38;5;124m__bases__\u001b[39m\u001b[38;5;124m\"\u001b[39m:\n\u001b[0;32m    119\u001b[0m     \u001b[38;5;28;01mraise\u001b[39;00m \u001b[38;5;167;01mAttributeError\u001b[39;00m(\u001b[38;5;124m\"\u001b[39m\u001b[38;5;124mLazyCorpusLoader object has no attribute \u001b[39m\u001b[38;5;124m'\u001b[39m\u001b[38;5;124m__bases__\u001b[39m\u001b[38;5;124m'\u001b[39m\u001b[38;5;124m\"\u001b[39m)\n\u001b[1;32m--> 121\u001b[0m \u001b[38;5;28;43mself\u001b[39;49m\u001b[38;5;241;43m.\u001b[39;49m\u001b[43m__load\u001b[49m\u001b[43m(\u001b[49m\u001b[43m)\u001b[49m\n\u001b[0;32m    122\u001b[0m \u001b[38;5;66;03m# This looks circular, but its not, since __load() changes our\u001b[39;00m\n\u001b[0;32m    123\u001b[0m \u001b[38;5;66;03m# __class__ to something new:\u001b[39;00m\n\u001b[0;32m    124\u001b[0m \u001b[38;5;28;01mreturn\u001b[39;00m \u001b[38;5;28mgetattr\u001b[39m(\u001b[38;5;28mself\u001b[39m, attr)\n",
      "File \u001b[1;32m~\\AppData\\Local\\Programs\\Python\\Python310\\lib\\site-packages\\nltk\\corpus\\util.py:86\u001b[0m, in \u001b[0;36mLazyCorpusLoader.__load\u001b[1;34m(self)\u001b[0m\n\u001b[0;32m     84\u001b[0m             root \u001b[38;5;241m=\u001b[39m nltk\u001b[38;5;241m.\u001b[39mdata\u001b[38;5;241m.\u001b[39mfind(\u001b[38;5;124mf\u001b[39m\u001b[38;5;124m\"\u001b[39m\u001b[38;5;132;01m{\u001b[39;00m\u001b[38;5;28mself\u001b[39m\u001b[38;5;241m.\u001b[39msubdir\u001b[38;5;132;01m}\u001b[39;00m\u001b[38;5;124m/\u001b[39m\u001b[38;5;132;01m{\u001b[39;00mzip_name\u001b[38;5;132;01m}\u001b[39;00m\u001b[38;5;124m\"\u001b[39m)\n\u001b[0;32m     85\u001b[0m         \u001b[38;5;28;01mexcept\u001b[39;00m \u001b[38;5;167;01mLookupError\u001b[39;00m:\n\u001b[1;32m---> 86\u001b[0m             \u001b[38;5;28;01mraise\u001b[39;00m e\n\u001b[0;32m     88\u001b[0m \u001b[38;5;66;03m# Load the corpus.\u001b[39;00m\n\u001b[0;32m     89\u001b[0m corpus \u001b[38;5;241m=\u001b[39m \u001b[38;5;28mself\u001b[39m\u001b[38;5;241m.\u001b[39m__reader_cls(root, \u001b[38;5;241m*\u001b[39m\u001b[38;5;28mself\u001b[39m\u001b[38;5;241m.\u001b[39m__args, \u001b[38;5;241m*\u001b[39m\u001b[38;5;241m*\u001b[39m\u001b[38;5;28mself\u001b[39m\u001b[38;5;241m.\u001b[39m__kwargs)\n",
      "File \u001b[1;32m~\\AppData\\Local\\Programs\\Python\\Python310\\lib\\site-packages\\nltk\\corpus\\util.py:81\u001b[0m, in \u001b[0;36mLazyCorpusLoader.__load\u001b[1;34m(self)\u001b[0m\n\u001b[0;32m     79\u001b[0m \u001b[38;5;28;01melse\u001b[39;00m:\n\u001b[0;32m     80\u001b[0m     \u001b[38;5;28;01mtry\u001b[39;00m:\n\u001b[1;32m---> 81\u001b[0m         root \u001b[38;5;241m=\u001b[39m \u001b[43mnltk\u001b[49m\u001b[38;5;241;43m.\u001b[39;49m\u001b[43mdata\u001b[49m\u001b[38;5;241;43m.\u001b[39;49m\u001b[43mfind\u001b[49m\u001b[43m(\u001b[49m\u001b[38;5;124;43mf\u001b[39;49m\u001b[38;5;124;43m\"\u001b[39;49m\u001b[38;5;132;43;01m{\u001b[39;49;00m\u001b[38;5;28;43mself\u001b[39;49m\u001b[38;5;241;43m.\u001b[39;49m\u001b[43msubdir\u001b[49m\u001b[38;5;132;43;01m}\u001b[39;49;00m\u001b[38;5;124;43m/\u001b[39;49m\u001b[38;5;132;43;01m{\u001b[39;49;00m\u001b[38;5;28;43mself\u001b[39;49m\u001b[38;5;241;43m.\u001b[39;49m\u001b[43m__name\u001b[49m\u001b[38;5;132;43;01m}\u001b[39;49;00m\u001b[38;5;124;43m\"\u001b[39;49m\u001b[43m)\u001b[49m\n\u001b[0;32m     82\u001b[0m     \u001b[38;5;28;01mexcept\u001b[39;00m \u001b[38;5;167;01mLookupError\u001b[39;00m \u001b[38;5;28;01mas\u001b[39;00m e:\n\u001b[0;32m     83\u001b[0m         \u001b[38;5;28;01mtry\u001b[39;00m:\n",
      "File \u001b[1;32m~\\AppData\\Local\\Programs\\Python\\Python310\\lib\\site-packages\\nltk\\data.py:583\u001b[0m, in \u001b[0;36mfind\u001b[1;34m(resource_name, paths)\u001b[0m\n\u001b[0;32m    581\u001b[0m sep \u001b[38;5;241m=\u001b[39m \u001b[38;5;124m\"\u001b[39m\u001b[38;5;124m*\u001b[39m\u001b[38;5;124m\"\u001b[39m \u001b[38;5;241m*\u001b[39m \u001b[38;5;241m70\u001b[39m\n\u001b[0;32m    582\u001b[0m resource_not_found \u001b[38;5;241m=\u001b[39m \u001b[38;5;124mf\u001b[39m\u001b[38;5;124m\"\u001b[39m\u001b[38;5;130;01m\\n\u001b[39;00m\u001b[38;5;132;01m{\u001b[39;00msep\u001b[38;5;132;01m}\u001b[39;00m\u001b[38;5;130;01m\\n\u001b[39;00m\u001b[38;5;132;01m{\u001b[39;00mmsg\u001b[38;5;132;01m}\u001b[39;00m\u001b[38;5;130;01m\\n\u001b[39;00m\u001b[38;5;132;01m{\u001b[39;00msep\u001b[38;5;132;01m}\u001b[39;00m\u001b[38;5;130;01m\\n\u001b[39;00m\u001b[38;5;124m\"\u001b[39m\n\u001b[1;32m--> 583\u001b[0m \u001b[38;5;28;01mraise\u001b[39;00m \u001b[38;5;167;01mLookupError\u001b[39;00m(resource_not_found)\n",
      "\u001b[1;31mLookupError\u001b[0m: \n**********************************************************************\n  Resource \u001b[93mwordnet\u001b[0m not found.\n  Please use the NLTK Downloader to obtain the resource:\n\n  \u001b[31m>>> import nltk\n  >>> nltk.download('wordnet')\n  \u001b[0m\n  For more information see: https://www.nltk.org/data.html\n\n  Attempted to load \u001b[93mcorpora/wordnet\u001b[0m\n\n  Searched in:\n    - 'C:\\\\Users\\\\91620/nltk_data'\n    - 'C:\\\\Users\\\\91620\\\\AppData\\\\Local\\\\Programs\\\\Python\\\\Python310\\\\nltk_data'\n    - 'C:\\\\Users\\\\91620\\\\AppData\\\\Local\\\\Programs\\\\Python\\\\Python310\\\\share\\\\nltk_data'\n    - 'C:\\\\Users\\\\91620\\\\AppData\\\\Local\\\\Programs\\\\Python\\\\Python310\\\\lib\\\\nltk_data'\n    - 'C:\\\\Users\\\\91620\\\\AppData\\\\Roaming\\\\nltk_data'\n    - 'C:\\\\nltk_data'\n    - 'D:\\\\nltk_data'\n    - 'E:\\\\nltk_data'\n**********************************************************************\n"
     ]
    }
   ],
   "source": [
    "from nltk.stem import WordNetLemmatizer\n",
    "\n",
    "wordnet_lemmatizer = WordNetLemmatizer()\n",
    "stem_words = []\n",
    "for w in tweet_tokenized:\n",
    "    x = wordnet_lemmatizer.lemmatize(w)\n",
    "    stem_words.append(x)\n",
    "print('Before Lemmatization')\n",
    "print(tweet_tokenized,'\\n')\n",
    "\n",
    "print('After Lemmatization')\n",
    "print(stem_words)"
   ]
  },
  {
   "cell_type": "code",
   "execution_count": null,
   "id": "90fb19dd",
   "metadata": {},
   "outputs": [],
   "source": []
  }
 ],
 "metadata": {
  "kernelspec": {
   "display_name": "Python 3 (ipykernel)",
   "language": "python",
   "name": "python3"
  },
  "language_info": {
   "codemirror_mode": {
    "name": "ipython",
    "version": 3
   },
   "file_extension": ".py",
   "mimetype": "text/x-python",
   "name": "python",
   "nbconvert_exporter": "python",
   "pygments_lexer": "ipython3",
   "version": "3.10.7"
  }
 },
 "nbformat": 4,
 "nbformat_minor": 5
}
